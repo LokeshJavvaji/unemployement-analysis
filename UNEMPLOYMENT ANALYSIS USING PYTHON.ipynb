{
 "cells": [
  {
   "cell_type": "markdown",
   "metadata": {},
   "source": [
    "# Unemployment is measured by the unemployment rate which is the number of people who are unemployed as a percentage of the total labour force. We have seen a sharp increase in the unemployment rate during Covid-19, so analyzing the unemployment rate can be a good data science project. "
   ]
  },
  {
   "cell_type": "code",
   "execution_count": 55,
   "metadata": {
    "execution": {
     "iopub.execute_input": "2023-05-30T16:20:56.056720Z",
     "iopub.status.busy": "2023-05-30T16:20:56.056203Z",
     "iopub.status.idle": "2023-05-30T16:20:56.063419Z",
     "shell.execute_reply": "2023-05-30T16:20:56.061940Z",
     "shell.execute_reply.started": "2023-05-30T16:20:56.056677Z"
    }
   },
   "outputs": [],
   "source": [
    "import numpy as np\n",
    "import pandas as pd\n",
    "import os\n",
    "import matplotlib.pyplot as plt\n",
    "import seaborn as sns"
   ]
  },
  {
   "cell_type": "code",
   "execution_count": 56,
   "metadata": {
    "execution": {
     "iopub.execute_input": "2023-05-30T16:20:56.066309Z",
     "iopub.status.busy": "2023-05-30T16:20:56.065826Z",
     "iopub.status.idle": "2023-05-30T16:20:56.146138Z",
     "shell.execute_reply": "2023-05-30T16:20:56.144687Z",
     "shell.execute_reply.started": "2023-05-30T16:20:56.066247Z"
    },
    "scrolled": true
   },
   "outputs": [
    {
     "data": {
      "text/html": [
       "<div>\n",
       "<style scoped>\n",
       "    .dataframe tbody tr th:only-of-type {\n",
       "        vertical-align: middle;\n",
       "    }\n",
       "\n",
       "    .dataframe tbody tr th {\n",
       "        vertical-align: top;\n",
       "    }\n",
       "\n",
       "    .dataframe thead th {\n",
       "        text-align: right;\n",
       "    }\n",
       "</style>\n",
       "<table border=\"1\" class=\"dataframe\">\n",
       "  <thead>\n",
       "    <tr style=\"text-align: right;\">\n",
       "      <th></th>\n",
       "      <th>Region</th>\n",
       "      <th>Date</th>\n",
       "      <th>Frequency</th>\n",
       "      <th>Estimated Unemployment Rate (%)</th>\n",
       "      <th>Estimated Employed</th>\n",
       "      <th>Estimated Labour Participation Rate (%)</th>\n",
       "      <th>Area</th>\n",
       "    </tr>\n",
       "  </thead>\n",
       "  <tbody>\n",
       "    <tr>\n",
       "      <th>0</th>\n",
       "      <td>Andhra Pradesh</td>\n",
       "      <td>31-05-2019</td>\n",
       "      <td>Monthly</td>\n",
       "      <td>3.65</td>\n",
       "      <td>11999139.0</td>\n",
       "      <td>43.24</td>\n",
       "      <td>Rural</td>\n",
       "    </tr>\n",
       "    <tr>\n",
       "      <th>1</th>\n",
       "      <td>Andhra Pradesh</td>\n",
       "      <td>30-06-2019</td>\n",
       "      <td>Monthly</td>\n",
       "      <td>3.05</td>\n",
       "      <td>11755881.0</td>\n",
       "      <td>42.05</td>\n",
       "      <td>Rural</td>\n",
       "    </tr>\n",
       "    <tr>\n",
       "      <th>2</th>\n",
       "      <td>Andhra Pradesh</td>\n",
       "      <td>31-07-2019</td>\n",
       "      <td>Monthly</td>\n",
       "      <td>3.75</td>\n",
       "      <td>12086707.0</td>\n",
       "      <td>43.50</td>\n",
       "      <td>Rural</td>\n",
       "    </tr>\n",
       "    <tr>\n",
       "      <th>3</th>\n",
       "      <td>Andhra Pradesh</td>\n",
       "      <td>31-08-2019</td>\n",
       "      <td>Monthly</td>\n",
       "      <td>3.32</td>\n",
       "      <td>12285693.0</td>\n",
       "      <td>43.97</td>\n",
       "      <td>Rural</td>\n",
       "    </tr>\n",
       "    <tr>\n",
       "      <th>4</th>\n",
       "      <td>Andhra Pradesh</td>\n",
       "      <td>30-09-2019</td>\n",
       "      <td>Monthly</td>\n",
       "      <td>5.17</td>\n",
       "      <td>12256762.0</td>\n",
       "      <td>44.68</td>\n",
       "      <td>Rural</td>\n",
       "    </tr>\n",
       "    <tr>\n",
       "      <th>...</th>\n",
       "      <td>...</td>\n",
       "      <td>...</td>\n",
       "      <td>...</td>\n",
       "      <td>...</td>\n",
       "      <td>...</td>\n",
       "      <td>...</td>\n",
       "      <td>...</td>\n",
       "    </tr>\n",
       "    <tr>\n",
       "      <th>763</th>\n",
       "      <td>NaN</td>\n",
       "      <td>NaN</td>\n",
       "      <td>NaN</td>\n",
       "      <td>NaN</td>\n",
       "      <td>NaN</td>\n",
       "      <td>NaN</td>\n",
       "      <td>NaN</td>\n",
       "    </tr>\n",
       "    <tr>\n",
       "      <th>764</th>\n",
       "      <td>NaN</td>\n",
       "      <td>NaN</td>\n",
       "      <td>NaN</td>\n",
       "      <td>NaN</td>\n",
       "      <td>NaN</td>\n",
       "      <td>NaN</td>\n",
       "      <td>NaN</td>\n",
       "    </tr>\n",
       "    <tr>\n",
       "      <th>765</th>\n",
       "      <td>NaN</td>\n",
       "      <td>NaN</td>\n",
       "      <td>NaN</td>\n",
       "      <td>NaN</td>\n",
       "      <td>NaN</td>\n",
       "      <td>NaN</td>\n",
       "      <td>NaN</td>\n",
       "    </tr>\n",
       "    <tr>\n",
       "      <th>766</th>\n",
       "      <td>NaN</td>\n",
       "      <td>NaN</td>\n",
       "      <td>NaN</td>\n",
       "      <td>NaN</td>\n",
       "      <td>NaN</td>\n",
       "      <td>NaN</td>\n",
       "      <td>NaN</td>\n",
       "    </tr>\n",
       "    <tr>\n",
       "      <th>767</th>\n",
       "      <td>NaN</td>\n",
       "      <td>NaN</td>\n",
       "      <td>NaN</td>\n",
       "      <td>NaN</td>\n",
       "      <td>NaN</td>\n",
       "      <td>NaN</td>\n",
       "      <td>NaN</td>\n",
       "    </tr>\n",
       "  </tbody>\n",
       "</table>\n",
       "<p>768 rows × 7 columns</p>\n",
       "</div>"
      ],
      "text/plain": [
       "             Region         Date Frequency  Estimated Unemployment Rate (%)  \\\n",
       "0    Andhra Pradesh   31-05-2019   Monthly                             3.65   \n",
       "1    Andhra Pradesh   30-06-2019   Monthly                             3.05   \n",
       "2    Andhra Pradesh   31-07-2019   Monthly                             3.75   \n",
       "3    Andhra Pradesh   31-08-2019   Monthly                             3.32   \n",
       "4    Andhra Pradesh   30-09-2019   Monthly                             5.17   \n",
       "..              ...          ...       ...                              ...   \n",
       "763             NaN          NaN       NaN                              NaN   \n",
       "764             NaN          NaN       NaN                              NaN   \n",
       "765             NaN          NaN       NaN                              NaN   \n",
       "766             NaN          NaN       NaN                              NaN   \n",
       "767             NaN          NaN       NaN                              NaN   \n",
       "\n",
       "     Estimated Employed  Estimated Labour Participation Rate (%)   Area  \n",
       "0            11999139.0                                    43.24  Rural  \n",
       "1            11755881.0                                    42.05  Rural  \n",
       "2            12086707.0                                    43.50  Rural  \n",
       "3            12285693.0                                    43.97  Rural  \n",
       "4            12256762.0                                    44.68  Rural  \n",
       "..                  ...                                      ...    ...  \n",
       "763                 NaN                                      NaN    NaN  \n",
       "764                 NaN                                      NaN    NaN  \n",
       "765                 NaN                                      NaN    NaN  \n",
       "766                 NaN                                      NaN    NaN  \n",
       "767                 NaN                                      NaN    NaN  \n",
       "\n",
       "[768 rows x 7 columns]"
      ]
     },
     "execution_count": 56,
     "metadata": {},
     "output_type": "execute_result"
    }
   ],
   "source": [
    "df = pd.read_csv(r'Unemployment in India.csv')\n",
    "df.columns = df.columns.str.strip() # Removing starting and ending spaces from column names\n",
    "df"
   ]
  },
  {
   "cell_type": "code",
   "execution_count": 57,
   "metadata": {
    "execution": {
     "iopub.execute_input": "2023-05-30T16:20:56.149429Z",
     "iopub.status.busy": "2023-05-30T16:20:56.148580Z",
     "iopub.status.idle": "2023-05-30T16:20:56.156910Z",
     "shell.execute_reply": "2023-05-30T16:20:56.155905Z",
     "shell.execute_reply.started": "2023-05-30T16:20:56.149381Z"
    }
   },
   "outputs": [
    {
     "data": {
      "text/plain": [
       "Index(['Region', 'Date', 'Frequency', 'Estimated Unemployment Rate (%)',\n",
       "       'Estimated Employed', 'Estimated Labour Participation Rate (%)',\n",
       "       'Area'],\n",
       "      dtype='object')"
      ]
     },
     "execution_count": 57,
     "metadata": {},
     "output_type": "execute_result"
    }
   ],
   "source": [
    "df.columns # Checking column names"
   ]
  },
  {
   "cell_type": "markdown",
   "metadata": {},
   "source": [
    "# EDA"
   ]
  },
  {
   "cell_type": "markdown",
   "metadata": {},
   "source": [
    "## Region"
   ]
  },
  {
   "cell_type": "code",
   "execution_count": 58,
   "metadata": {
    "execution": {
     "iopub.execute_input": "2023-05-30T16:20:56.158962Z",
     "iopub.status.busy": "2023-05-30T16:20:56.158183Z",
     "iopub.status.idle": "2023-05-30T16:20:56.177521Z",
     "shell.execute_reply": "2023-05-30T16:20:56.176428Z",
     "shell.execute_reply.started": "2023-05-30T16:20:56.158927Z"
    }
   },
   "outputs": [
    {
     "data": {
      "text/plain": [
       "Andhra Pradesh      28\n",
       "Kerala              28\n",
       "NaN                 28\n",
       "West Bengal         28\n",
       "Uttar Pradesh       28\n",
       "Tripura             28\n",
       "Telangana           28\n",
       "Tamil Nadu          28\n",
       "Rajasthan           28\n",
       "Punjab              28\n",
       "Odisha              28\n",
       "Madhya Pradesh      28\n",
       "Maharashtra         28\n",
       "Karnataka           28\n",
       "Jharkhand           28\n",
       "Himachal Pradesh    28\n",
       "Haryana             28\n",
       "Gujarat             28\n",
       "Delhi               28\n",
       "Chhattisgarh        28\n",
       "Bihar               28\n",
       "Meghalaya           27\n",
       "Uttarakhand         27\n",
       "Assam               26\n",
       "Puducherry          26\n",
       "Goa                 24\n",
       "Jammu & Kashmir     21\n",
       "Sikkim              17\n",
       "Chandigarh          12\n",
       "Name: Region, dtype: int64"
      ]
     },
     "execution_count": 58,
     "metadata": {},
     "output_type": "execute_result"
    }
   ],
   "source": [
    "# Checking for null values\n",
    "df['Region'].value_counts(dropna=False)"
   ]
  },
  {
   "cell_type": "code",
   "execution_count": 59,
   "metadata": {
    "execution": {
     "iopub.execute_input": "2023-05-30T16:20:56.181247Z",
     "iopub.status.busy": "2023-05-30T16:20:56.180215Z",
     "iopub.status.idle": "2023-05-30T16:20:56.194863Z",
     "shell.execute_reply": "2023-05-30T16:20:56.193443Z",
     "shell.execute_reply.started": "2023-05-30T16:20:56.181197Z"
    }
   },
   "outputs": [
    {
     "data": {
      "text/plain": [
       "28"
      ]
     },
     "execution_count": 59,
     "metadata": {},
     "output_type": "execute_result"
    }
   ],
   "source": [
    "df['Region'].isnull().sum()"
   ]
  },
  {
   "cell_type": "code",
   "execution_count": 60,
   "metadata": {
    "execution": {
     "iopub.execute_input": "2023-05-30T16:20:56.197190Z",
     "iopub.status.busy": "2023-05-30T16:20:56.196822Z",
     "iopub.status.idle": "2023-05-30T16:20:56.206341Z",
     "shell.execute_reply": "2023-05-30T16:20:56.205175Z",
     "shell.execute_reply.started": "2023-05-30T16:20:56.197162Z"
    }
   },
   "outputs": [],
   "source": [
    "#Get indices where there is nan\n",
    "nan_index_Region = df[df['Region'].isnull()].index.tolist()"
   ]
  },
  {
   "cell_type": "markdown",
   "metadata": {},
   "source": [
    "## Date"
   ]
  },
  {
   "cell_type": "code",
   "execution_count": 61,
   "metadata": {
    "execution": {
     "iopub.execute_input": "2023-05-30T16:20:56.208501Z",
     "iopub.status.busy": "2023-05-30T16:20:56.207667Z",
     "iopub.status.idle": "2023-05-30T16:20:56.228217Z",
     "shell.execute_reply": "2023-05-30T16:20:56.227360Z",
     "shell.execute_reply.started": "2023-05-30T16:20:56.208467Z"
    }
   },
   "outputs": [
    {
     "data": {
      "text/plain": [
       " 31-10-2019    55\n",
       " 30-11-2019    55\n",
       " 31-05-2019    54\n",
       " 30-06-2019    54\n",
       " 31-07-2019    54\n",
       " 31-08-2019    53\n",
       " 31-12-2019    53\n",
       " 31-01-2020    53\n",
       " 29-02-2020    53\n",
       " 30-09-2019    52\n",
       " 31-03-2020    52\n",
       " 30-04-2020    51\n",
       " 31-05-2020    51\n",
       " 30-06-2020    50\n",
       "NaN            28\n",
       "Name: Date, dtype: int64"
      ]
     },
     "execution_count": 61,
     "metadata": {},
     "output_type": "execute_result"
    }
   ],
   "source": [
    "# Checking for null values\n",
    "df['Date'].value_counts(dropna=False)"
   ]
  },
  {
   "cell_type": "code",
   "execution_count": 62,
   "metadata": {
    "execution": {
     "iopub.execute_input": "2023-05-30T16:20:56.230314Z",
     "iopub.status.busy": "2023-05-30T16:20:56.229691Z",
     "iopub.status.idle": "2023-05-30T16:20:56.247568Z",
     "shell.execute_reply": "2023-05-30T16:20:56.246503Z",
     "shell.execute_reply.started": "2023-05-30T16:20:56.230263Z"
    }
   },
   "outputs": [],
   "source": [
    "# Checking for null values\n",
    "nan_index_Date = df[df['Date'].isnull()].index.tolist()"
   ]
  },
  {
   "cell_type": "markdown",
   "metadata": {},
   "source": [
    "## Frequency"
   ]
  },
  {
   "cell_type": "code",
   "execution_count": 63,
   "metadata": {
    "execution": {
     "iopub.execute_input": "2023-05-30T16:20:56.250063Z",
     "iopub.status.busy": "2023-05-30T16:20:56.249385Z",
     "iopub.status.idle": "2023-05-30T16:20:56.272707Z",
     "shell.execute_reply": "2023-05-30T16:20:56.271741Z",
     "shell.execute_reply.started": "2023-05-30T16:20:56.250026Z"
    }
   },
   "outputs": [
    {
     "data": {
      "text/plain": [
       "Monthly    740\n",
       "NaN         28\n",
       "Name: Frequency, dtype: int64"
      ]
     },
     "execution_count": 63,
     "metadata": {},
     "output_type": "execute_result"
    }
   ],
   "source": [
    "df['Frequency'] = df['Frequency'].str.replace(' Monthly', 'Monthly')\n",
    "\n",
    "# Checking for null values\n",
    "df['Frequency'].value_counts(dropna=False)"
   ]
  },
  {
   "cell_type": "code",
   "execution_count": 64,
   "metadata": {
    "execution": {
     "iopub.execute_input": "2023-05-30T16:20:56.275057Z",
     "iopub.status.busy": "2023-05-30T16:20:56.274403Z",
     "iopub.status.idle": "2023-05-30T16:20:56.287516Z",
     "shell.execute_reply": "2023-05-30T16:20:56.286350Z",
     "shell.execute_reply.started": "2023-05-30T16:20:56.275016Z"
    }
   },
   "outputs": [],
   "source": [
    "# Checking for null values\n",
    "n= df[df['Frequency'].isnull()].index.tolist()"
   ]
  },
  {
   "cell_type": "markdown",
   "metadata": {},
   "source": [
    "## Estimated Unemployment Rate (%)"
   ]
  },
  {
   "cell_type": "code",
   "execution_count": 65,
   "metadata": {
    "execution": {
     "iopub.execute_input": "2023-05-30T16:20:56.311162Z",
     "iopub.status.busy": "2023-05-30T16:20:56.310446Z",
     "iopub.status.idle": "2023-05-30T16:20:56.327022Z",
     "shell.execute_reply": "2023-05-30T16:20:56.325325Z",
     "shell.execute_reply.started": "2023-05-30T16:20:56.311127Z"
    }
   },
   "outputs": [
    {
     "data": {
      "text/plain": [
       "NaN      28\n",
       "0.00     11\n",
       "3.31      4\n",
       "5.35      3\n",
       "3.66      3\n",
       "         ..\n",
       "13.70     1\n",
       "4.03      1\n",
       "40.59     1\n",
       "3.69      1\n",
       "9.86      1\n",
       "Name: Estimated Unemployment Rate (%), Length: 625, dtype: int64"
      ]
     },
     "execution_count": 65,
     "metadata": {},
     "output_type": "execute_result"
    }
   ],
   "source": [
    "# Checking for null values\n",
    "df['Estimated Unemployment Rate (%)'].value_counts(dropna=False)"
   ]
  },
  {
   "cell_type": "markdown",
   "metadata": {},
   "source": [
    "## Estimated Employed"
   ]
  },
  {
   "cell_type": "code",
   "execution_count": 66,
   "metadata": {
    "execution": {
     "iopub.execute_input": "2023-05-30T16:20:56.344812Z",
     "iopub.status.busy": "2023-05-30T16:20:56.344170Z",
     "iopub.status.idle": "2023-05-30T16:20:56.366353Z",
     "shell.execute_reply": "2023-05-30T16:20:56.364760Z",
     "shell.execute_reply.started": "2023-05-30T16:20:56.344761Z"
    }
   },
   "outputs": [
    {
     "data": {
      "text/plain": [
       "NaN          28\n",
       "247210.0      1\n",
       "233029.0      1\n",
       "241366.0      1\n",
       "246596.0      1\n",
       "             ..\n",
       "6021921.0     1\n",
       "6395022.0     1\n",
       "6164215.0     1\n",
       "6189471.0     1\n",
       "9088931.0     1\n",
       "Name: Estimated Employed, Length: 741, dtype: int64"
      ]
     },
     "execution_count": 66,
     "metadata": {},
     "output_type": "execute_result"
    }
   ],
   "source": [
    "# Checking for null values\n",
    "df['Estimated Employed'].value_counts(dropna=False)"
   ]
  },
  {
   "cell_type": "markdown",
   "metadata": {},
   "source": [
    "## Estimated Labour Participation Rate (%)"
   ]
  },
  {
   "cell_type": "code",
   "execution_count": 67,
   "metadata": {
    "execution": {
     "iopub.execute_input": "2023-05-30T16:20:56.384616Z",
     "iopub.status.busy": "2023-05-30T16:20:56.383386Z",
     "iopub.status.idle": "2023-05-30T16:20:56.404247Z",
     "shell.execute_reply": "2023-05-30T16:20:56.402832Z",
     "shell.execute_reply.started": "2023-05-30T16:20:56.384568Z"
    }
   },
   "outputs": [
    {
     "data": {
      "text/plain": [
       "NaN      28\n",
       "40.43     3\n",
       "42.82     3\n",
       "39.92     3\n",
       "43.25     3\n",
       "         ..\n",
       "44.08     1\n",
       "46.50     1\n",
       "45.79     1\n",
       "44.79     1\n",
       "40.67     1\n",
       "Name: Estimated Labour Participation Rate (%), Length: 627, dtype: int64"
      ]
     },
     "execution_count": 67,
     "metadata": {},
     "output_type": "execute_result"
    }
   ],
   "source": [
    "# Checking for null values\n",
    "df['Estimated Labour Participation Rate (%)'].value_counts(dropna=False)"
   ]
  },
  {
   "cell_type": "markdown",
   "metadata": {},
   "source": [
    "## Area"
   ]
  },
  {
   "cell_type": "code",
   "execution_count": 68,
   "metadata": {
    "execution": {
     "iopub.execute_input": "2023-05-30T16:20:56.420253Z",
     "iopub.status.busy": "2023-05-30T16:20:56.419151Z",
     "iopub.status.idle": "2023-05-30T16:20:56.435405Z",
     "shell.execute_reply": "2023-05-30T16:20:56.433939Z",
     "shell.execute_reply.started": "2023-05-30T16:20:56.420194Z"
    }
   },
   "outputs": [
    {
     "data": {
      "text/plain": [
       "Urban    381\n",
       "Rural    359\n",
       "NaN       28\n",
       "Name: Area, dtype: int64"
      ]
     },
     "execution_count": 68,
     "metadata": {},
     "output_type": "execute_result"
    }
   ],
   "source": [
    "# Checking for null values\n",
    "df['Area'].value_counts(dropna=False)"
   ]
  },
  {
   "cell_type": "code",
   "execution_count": 69,
   "metadata": {
    "execution": {
     "iopub.execute_input": "2023-05-30T16:20:56.468143Z",
     "iopub.status.busy": "2023-05-30T16:20:56.467425Z",
     "iopub.status.idle": "2023-05-30T16:20:56.501158Z",
     "shell.execute_reply": "2023-05-30T16:20:56.499941Z",
     "shell.execute_reply.started": "2023-05-30T16:20:56.468101Z"
    }
   },
   "outputs": [
    {
     "data": {
      "text/html": [
       "<div>\n",
       "<style scoped>\n",
       "    .dataframe tbody tr th:only-of-type {\n",
       "        vertical-align: middle;\n",
       "    }\n",
       "\n",
       "    .dataframe tbody tr th {\n",
       "        vertical-align: top;\n",
       "    }\n",
       "\n",
       "    .dataframe thead th {\n",
       "        text-align: right;\n",
       "    }\n",
       "</style>\n",
       "<table border=\"1\" class=\"dataframe\">\n",
       "  <thead>\n",
       "    <tr style=\"text-align: right;\">\n",
       "      <th></th>\n",
       "      <th>Region</th>\n",
       "      <th>Date</th>\n",
       "      <th>Frequency</th>\n",
       "      <th>Estimated Unemployment Rate (%)</th>\n",
       "      <th>Estimated Employed</th>\n",
       "      <th>Estimated Labour Participation Rate (%)</th>\n",
       "      <th>Area</th>\n",
       "    </tr>\n",
       "  </thead>\n",
       "  <tbody>\n",
       "    <tr>\n",
       "      <th>0</th>\n",
       "      <td>Andhra Pradesh</td>\n",
       "      <td>31-05-2019</td>\n",
       "      <td>Monthly</td>\n",
       "      <td>3.65</td>\n",
       "      <td>11999139.0</td>\n",
       "      <td>43.24</td>\n",
       "      <td>Rural</td>\n",
       "    </tr>\n",
       "    <tr>\n",
       "      <th>1</th>\n",
       "      <td>Andhra Pradesh</td>\n",
       "      <td>30-06-2019</td>\n",
       "      <td>Monthly</td>\n",
       "      <td>3.05</td>\n",
       "      <td>11755881.0</td>\n",
       "      <td>42.05</td>\n",
       "      <td>Rural</td>\n",
       "    </tr>\n",
       "    <tr>\n",
       "      <th>2</th>\n",
       "      <td>Andhra Pradesh</td>\n",
       "      <td>31-07-2019</td>\n",
       "      <td>Monthly</td>\n",
       "      <td>3.75</td>\n",
       "      <td>12086707.0</td>\n",
       "      <td>43.50</td>\n",
       "      <td>Rural</td>\n",
       "    </tr>\n",
       "    <tr>\n",
       "      <th>3</th>\n",
       "      <td>Andhra Pradesh</td>\n",
       "      <td>31-08-2019</td>\n",
       "      <td>Monthly</td>\n",
       "      <td>3.32</td>\n",
       "      <td>12285693.0</td>\n",
       "      <td>43.97</td>\n",
       "      <td>Rural</td>\n",
       "    </tr>\n",
       "    <tr>\n",
       "      <th>4</th>\n",
       "      <td>Andhra Pradesh</td>\n",
       "      <td>30-09-2019</td>\n",
       "      <td>Monthly</td>\n",
       "      <td>5.17</td>\n",
       "      <td>12256762.0</td>\n",
       "      <td>44.68</td>\n",
       "      <td>Rural</td>\n",
       "    </tr>\n",
       "    <tr>\n",
       "      <th>...</th>\n",
       "      <td>...</td>\n",
       "      <td>...</td>\n",
       "      <td>...</td>\n",
       "      <td>...</td>\n",
       "      <td>...</td>\n",
       "      <td>...</td>\n",
       "      <td>...</td>\n",
       "    </tr>\n",
       "    <tr>\n",
       "      <th>749</th>\n",
       "      <td>West Bengal</td>\n",
       "      <td>29-02-2020</td>\n",
       "      <td>Monthly</td>\n",
       "      <td>7.55</td>\n",
       "      <td>10871168.0</td>\n",
       "      <td>44.09</td>\n",
       "      <td>Urban</td>\n",
       "    </tr>\n",
       "    <tr>\n",
       "      <th>750</th>\n",
       "      <td>West Bengal</td>\n",
       "      <td>31-03-2020</td>\n",
       "      <td>Monthly</td>\n",
       "      <td>6.67</td>\n",
       "      <td>10806105.0</td>\n",
       "      <td>43.34</td>\n",
       "      <td>Urban</td>\n",
       "    </tr>\n",
       "    <tr>\n",
       "      <th>751</th>\n",
       "      <td>West Bengal</td>\n",
       "      <td>30-04-2020</td>\n",
       "      <td>Monthly</td>\n",
       "      <td>15.63</td>\n",
       "      <td>9299466.0</td>\n",
       "      <td>41.20</td>\n",
       "      <td>Urban</td>\n",
       "    </tr>\n",
       "    <tr>\n",
       "      <th>752</th>\n",
       "      <td>West Bengal</td>\n",
       "      <td>31-05-2020</td>\n",
       "      <td>Monthly</td>\n",
       "      <td>15.22</td>\n",
       "      <td>9240903.0</td>\n",
       "      <td>40.67</td>\n",
       "      <td>Urban</td>\n",
       "    </tr>\n",
       "    <tr>\n",
       "      <th>753</th>\n",
       "      <td>West Bengal</td>\n",
       "      <td>30-06-2020</td>\n",
       "      <td>Monthly</td>\n",
       "      <td>9.86</td>\n",
       "      <td>9088931.0</td>\n",
       "      <td>37.57</td>\n",
       "      <td>Urban</td>\n",
       "    </tr>\n",
       "  </tbody>\n",
       "</table>\n",
       "<p>740 rows × 7 columns</p>\n",
       "</div>"
      ],
      "text/plain": [
       "             Region         Date Frequency  Estimated Unemployment Rate (%)  \\\n",
       "0    Andhra Pradesh   31-05-2019   Monthly                             3.65   \n",
       "1    Andhra Pradesh   30-06-2019   Monthly                             3.05   \n",
       "2    Andhra Pradesh   31-07-2019   Monthly                             3.75   \n",
       "3    Andhra Pradesh   31-08-2019   Monthly                             3.32   \n",
       "4    Andhra Pradesh   30-09-2019   Monthly                             5.17   \n",
       "..              ...          ...       ...                              ...   \n",
       "749     West Bengal   29-02-2020   Monthly                             7.55   \n",
       "750     West Bengal   31-03-2020   Monthly                             6.67   \n",
       "751     West Bengal   30-04-2020   Monthly                            15.63   \n",
       "752     West Bengal   31-05-2020   Monthly                            15.22   \n",
       "753     West Bengal   30-06-2020   Monthly                             9.86   \n",
       "\n",
       "     Estimated Employed  Estimated Labour Participation Rate (%)   Area  \n",
       "0            11999139.0                                    43.24  Rural  \n",
       "1            11755881.0                                    42.05  Rural  \n",
       "2            12086707.0                                    43.50  Rural  \n",
       "3            12285693.0                                    43.97  Rural  \n",
       "4            12256762.0                                    44.68  Rural  \n",
       "..                  ...                                      ...    ...  \n",
       "749          10871168.0                                    44.09  Urban  \n",
       "750          10806105.0                                    43.34  Urban  \n",
       "751           9299466.0                                    41.20  Urban  \n",
       "752           9240903.0                                    40.67  Urban  \n",
       "753           9088931.0                                    37.57  Urban  \n",
       "\n",
       "[740 rows x 7 columns]"
      ]
     },
     "execution_count": 69,
     "metadata": {},
     "output_type": "execute_result"
    }
   ],
   "source": [
    "df = df.dropna()\n",
    "df"
   ]
  },
  {
   "cell_type": "markdown",
   "metadata": {},
   "source": [
    "# Dependencies"
   ]
  },
  {
   "cell_type": "markdown",
   "metadata": {},
   "source": [
    "## Employement vs UnEmployement"
   ]
  },
  {
   "cell_type": "code",
   "execution_count": 70,
   "metadata": {
    "execution": {
     "iopub.execute_input": "2023-05-30T16:20:56.511316Z",
     "iopub.status.busy": "2023-05-30T16:20:56.510596Z",
     "iopub.status.idle": "2023-05-30T16:20:56.919046Z",
     "shell.execute_reply": "2023-05-30T16:20:56.917212Z",
     "shell.execute_reply.started": "2023-05-30T16:20:56.511251Z"
    }
   },
   "outputs": [
    {
     "data": {
      "text/plain": [
       "<function matplotlib.pyplot.show(close=None, block=None)>"
      ]
     },
     "execution_count": 70,
     "metadata": {},
     "output_type": "execute_result"
    },
    {
     "data": {
      "image/png": "[encoded data removed]",
      "text/plain": [
       "<Figure size 864x720 with 1 Axes>"
      ]
     },
     "metadata": {
      "needs_background": "light"
     },
     "output_type": "display_data"
    }
   ],
   "source": [
    "#checking relation using just first 50 rows to keep the plot readable\n",
    "Employed = df['Estimated Employed'].iloc[:50]\n",
    "Unemployed = df['Estimated Unemployment Rate (%)'].iloc[:50]\n",
    "\n",
    "#normalize the employed in range 1 to 20\n",
    "Employed = (Employed - Employed.min())/(Employed.max() - Employed.min()) * 19 + 1\n",
    "\n",
    "plt.figure(figsize=(12,10))\n",
    "plt.plot(Employed, label='Employed', color='green')\n",
    "plt.plot(Unemployed, label='Unemployed', color='red')\n",
    "plt.show"
   ]
  },
  {
   "cell_type": "code",
   "execution_count": 48,
   "metadata": {
    "execution": {
     "iopub.execute_input": "2023-05-30T16:20:56.921339Z",
     "iopub.status.busy": "2023-05-30T16:20:56.920828Z",
     "iopub.status.idle": "2023-05-30T16:20:56.934474Z",
     "shell.execute_reply": "2023-05-30T16:20:56.932731Z",
     "shell.execute_reply.started": "2023-05-30T16:20:56.921292Z"
    }
   },
   "outputs": [
    {
     "name": "stdout",
     "output_type": "stream",
     "text": [
      "-0.2228763995221477\n"
     ]
    },
    {
     "data": {
      "text/plain": [
       "'This shows that the correlation between the two is too less hence dropping employement.'"
      ]
     },
     "execution_count": 48,
     "metadata": {},
     "output_type": "execute_result"
    }
   ],
   "source": [
    "#get correlation of df['Estimated Employed'] and  df['Estimated Unemployment Rate (%)']\n",
    "print(df['Estimated Employed'].corr(df['Estimated Unemployment Rate (%)']))\n",
    "\n",
    "'''This shows that the correlation between the two is too less hence dropping employement.'''"
   ]
  },
  {
   "cell_type": "code",
   "execution_count": 49,
   "metadata": {
    "execution": {
     "iopub.execute_input": "2023-05-30T16:20:56.941366Z",
     "iopub.status.busy": "2023-05-30T16:20:56.940352Z",
     "iopub.status.idle": "2023-05-30T16:20:56.967266Z",
     "shell.execute_reply": "2023-05-30T16:20:56.965781Z",
     "shell.execute_reply.started": "2023-05-30T16:20:56.941159Z"
    }
   },
   "outputs": [
    {
     "data": {
      "text/html": [
       "<div>\n",
       "<style scoped>\n",
       "    .dataframe tbody tr th:only-of-type {\n",
       "        vertical-align: middle;\n",
       "    }\n",
       "\n",
       "    .dataframe tbody tr th {\n",
       "        vertical-align: top;\n",
       "    }\n",
       "\n",
       "    .dataframe thead th {\n",
       "        text-align: right;\n",
       "    }\n",
       "</style>\n",
       "<table border=\"1\" class=\"dataframe\">\n",
       "  <thead>\n",
       "    <tr style=\"text-align: right;\">\n",
       "      <th></th>\n",
       "      <th>Region</th>\n",
       "      <th>Date</th>\n",
       "      <th>Frequency</th>\n",
       "      <th>Estimated Unemployment Rate (%)</th>\n",
       "      <th>Estimated Labour Participation Rate (%)</th>\n",
       "      <th>Area</th>\n",
       "    </tr>\n",
       "  </thead>\n",
       "  <tbody>\n",
       "    <tr>\n",
       "      <th>0</th>\n",
       "      <td>Andhra Pradesh</td>\n",
       "      <td>31-05-2019</td>\n",
       "      <td>Monthly</td>\n",
       "      <td>3.65</td>\n",
       "      <td>43.24</td>\n",
       "      <td>Rural</td>\n",
       "    </tr>\n",
       "    <tr>\n",
       "      <th>1</th>\n",
       "      <td>Andhra Pradesh</td>\n",
       "      <td>30-06-2019</td>\n",
       "      <td>Monthly</td>\n",
       "      <td>3.05</td>\n",
       "      <td>42.05</td>\n",
       "      <td>Rural</td>\n",
       "    </tr>\n",
       "    <tr>\n",
       "      <th>2</th>\n",
       "      <td>Andhra Pradesh</td>\n",
       "      <td>31-07-2019</td>\n",
       "      <td>Monthly</td>\n",
       "      <td>3.75</td>\n",
       "      <td>43.50</td>\n",
       "      <td>Rural</td>\n",
       "    </tr>\n",
       "    <tr>\n",
       "      <th>3</th>\n",
       "      <td>Andhra Pradesh</td>\n",
       "      <td>31-08-2019</td>\n",
       "      <td>Monthly</td>\n",
       "      <td>3.32</td>\n",
       "      <td>43.97</td>\n",
       "      <td>Rural</td>\n",
       "    </tr>\n",
       "    <tr>\n",
       "      <th>4</th>\n",
       "      <td>Andhra Pradesh</td>\n",
       "      <td>30-09-2019</td>\n",
       "      <td>Monthly</td>\n",
       "      <td>5.17</td>\n",
       "      <td>44.68</td>\n",
       "      <td>Rural</td>\n",
       "    </tr>\n",
       "    <tr>\n",
       "      <th>...</th>\n",
       "      <td>...</td>\n",
       "      <td>...</td>\n",
       "      <td>...</td>\n",
       "      <td>...</td>\n",
       "      <td>...</td>\n",
       "      <td>...</td>\n",
       "    </tr>\n",
       "    <tr>\n",
       "      <th>749</th>\n",
       "      <td>West Bengal</td>\n",
       "      <td>29-02-2020</td>\n",
       "      <td>Monthly</td>\n",
       "      <td>7.55</td>\n",
       "      <td>44.09</td>\n",
       "      <td>Urban</td>\n",
       "    </tr>\n",
       "    <tr>\n",
       "      <th>750</th>\n",
       "      <td>West Bengal</td>\n",
       "      <td>31-03-2020</td>\n",
       "      <td>Monthly</td>\n",
       "      <td>6.67</td>\n",
       "      <td>43.34</td>\n",
       "      <td>Urban</td>\n",
       "    </tr>\n",
       "    <tr>\n",
       "      <th>751</th>\n",
       "      <td>West Bengal</td>\n",
       "      <td>30-04-2020</td>\n",
       "      <td>Monthly</td>\n",
       "      <td>15.63</td>\n",
       "      <td>41.20</td>\n",
       "      <td>Urban</td>\n",
       "    </tr>\n",
       "    <tr>\n",
       "      <th>752</th>\n",
       "      <td>West Bengal</td>\n",
       "      <td>31-05-2020</td>\n",
       "      <td>Monthly</td>\n",
       "      <td>15.22</td>\n",
       "      <td>40.67</td>\n",
       "      <td>Urban</td>\n",
       "    </tr>\n",
       "    <tr>\n",
       "      <th>753</th>\n",
       "      <td>West Bengal</td>\n",
       "      <td>30-06-2020</td>\n",
       "      <td>Monthly</td>\n",
       "      <td>9.86</td>\n",
       "      <td>37.57</td>\n",
       "      <td>Urban</td>\n",
       "    </tr>\n",
       "  </tbody>\n",
       "</table>\n",
       "<p>740 rows × 6 columns</p>\n",
       "</div>"
      ],
      "text/plain": [
       "             Region         Date Frequency  Estimated Unemployment Rate (%)  \\\n",
       "0    Andhra Pradesh   31-05-2019   Monthly                             3.65   \n",
       "1    Andhra Pradesh   30-06-2019   Monthly                             3.05   \n",
       "2    Andhra Pradesh   31-07-2019   Monthly                             3.75   \n",
       "3    Andhra Pradesh   31-08-2019   Monthly                             3.32   \n",
       "4    Andhra Pradesh   30-09-2019   Monthly                             5.17   \n",
       "..              ...          ...       ...                              ...   \n",
       "749     West Bengal   29-02-2020   Monthly                             7.55   \n",
       "750     West Bengal   31-03-2020   Monthly                             6.67   \n",
       "751     West Bengal   30-04-2020   Monthly                            15.63   \n",
       "752     West Bengal   31-05-2020   Monthly                            15.22   \n",
       "753     West Bengal   30-06-2020   Monthly                             9.86   \n",
       "\n",
       "     Estimated Labour Participation Rate (%)   Area  \n",
       "0                                      43.24  Rural  \n",
       "1                                      42.05  Rural  \n",
       "2                                      43.50  Rural  \n",
       "3                                      43.97  Rural  \n",
       "4                                      44.68  Rural  \n",
       "..                                       ...    ...  \n",
       "749                                    44.09  Urban  \n",
       "750                                    43.34  Urban  \n",
       "751                                    41.20  Urban  \n",
       "752                                    40.67  Urban  \n",
       "753                                    37.57  Urban  \n",
       "\n",
       "[740 rows x 6 columns]"
      ]
     },
     "execution_count": 49,
     "metadata": {},
     "output_type": "execute_result"
    }
   ],
   "source": [
    "#df = df.drop(['Estimated Employed'], axis=1)\n",
    "#df"
   ]
  },
  {
   "cell_type": "markdown",
   "metadata": {},
   "source": [
    "## Unemployement vs Area"
   ]
  },
  {
   "cell_type": "code",
   "execution_count": 71,
   "metadata": {
    "execution": {
     "iopub.execute_input": "2023-05-30T16:20:57.005315Z",
     "iopub.status.busy": "2023-05-30T16:20:57.004943Z",
     "iopub.status.idle": "2023-05-30T16:20:57.037518Z",
     "shell.execute_reply": "2023-05-30T16:20:57.036185Z",
     "shell.execute_reply.started": "2023-05-30T16:20:57.005285Z"
    }
   },
   "outputs": [
    {
     "data": {
      "text/html": [
       "<div>\n",
       "<style scoped>\n",
       "    .dataframe tbody tr th:only-of-type {\n",
       "        vertical-align: middle;\n",
       "    }\n",
       "\n",
       "    .dataframe tbody tr th {\n",
       "        vertical-align: top;\n",
       "    }\n",
       "\n",
       "    .dataframe thead th {\n",
       "        text-align: right;\n",
       "    }\n",
       "</style>\n",
       "<table border=\"1\" class=\"dataframe\">\n",
       "  <thead>\n",
       "    <tr style=\"text-align: right;\">\n",
       "      <th></th>\n",
       "      <th></th>\n",
       "      <th>Estimated Unemployment Rate (%)</th>\n",
       "    </tr>\n",
       "    <tr>\n",
       "      <th>Region</th>\n",
       "      <th>Area</th>\n",
       "      <th></th>\n",
       "    </tr>\n",
       "  </thead>\n",
       "  <tbody>\n",
       "    <tr>\n",
       "      <th rowspan=\"2\" valign=\"top\">Andhra Pradesh</th>\n",
       "      <th>Rural</th>\n",
       "      <td>5.526429</td>\n",
       "    </tr>\n",
       "    <tr>\n",
       "      <th>Urban</th>\n",
       "      <td>9.427857</td>\n",
       "    </tr>\n",
       "    <tr>\n",
       "      <th rowspan=\"2\" valign=\"top\">Assam</th>\n",
       "      <th>Rural</th>\n",
       "      <td>4.490833</td>\n",
       "    </tr>\n",
       "    <tr>\n",
       "      <th>Urban</th>\n",
       "      <td>8.088571</td>\n",
       "    </tr>\n",
       "    <tr>\n",
       "      <th rowspan=\"2\" valign=\"top\">Bihar</th>\n",
       "      <th>Rural</th>\n",
       "      <td>16.770000</td>\n",
       "    </tr>\n",
       "    <tr>\n",
       "      <th>Urban</th>\n",
       "      <td>21.066429</td>\n",
       "    </tr>\n",
       "    <tr>\n",
       "      <th>Chandigarh</th>\n",
       "      <th>Urban</th>\n",
       "      <td>15.991667</td>\n",
       "    </tr>\n",
       "    <tr>\n",
       "      <th rowspan=\"2\" valign=\"top\">Chhattisgarh</th>\n",
       "      <th>Rural</th>\n",
       "      <td>6.628571</td>\n",
       "    </tr>\n",
       "    <tr>\n",
       "      <th>Urban</th>\n",
       "      <td>11.852143</td>\n",
       "    </tr>\n",
       "    <tr>\n",
       "      <th rowspan=\"2\" valign=\"top\">Delhi</th>\n",
       "      <th>Rural</th>\n",
       "      <td>15.258571</td>\n",
       "    </tr>\n",
       "    <tr>\n",
       "      <th>Urban</th>\n",
       "      <td>17.732143</td>\n",
       "    </tr>\n",
       "    <tr>\n",
       "      <th rowspan=\"2\" valign=\"top\">Goa</th>\n",
       "      <th>Rural</th>\n",
       "      <td>8.390000</td>\n",
       "    </tr>\n",
       "    <tr>\n",
       "      <th>Urban</th>\n",
       "      <td>10.158333</td>\n",
       "    </tr>\n",
       "    <tr>\n",
       "      <th rowspan=\"2\" valign=\"top\">Gujarat</th>\n",
       "      <th>Rural</th>\n",
       "      <td>5.917143</td>\n",
       "    </tr>\n",
       "    <tr>\n",
       "      <th>Urban</th>\n",
       "      <td>7.410714</td>\n",
       "    </tr>\n",
       "    <tr>\n",
       "      <th rowspan=\"2\" valign=\"top\">Haryana</th>\n",
       "      <th>Rural</th>\n",
       "      <td>25.012857</td>\n",
       "    </tr>\n",
       "    <tr>\n",
       "      <th>Urban</th>\n",
       "      <td>27.553571</td>\n",
       "    </tr>\n",
       "    <tr>\n",
       "      <th rowspan=\"2\" valign=\"top\">Himachal Pradesh</th>\n",
       "      <th>Rural</th>\n",
       "      <td>15.504286</td>\n",
       "    </tr>\n",
       "    <tr>\n",
       "      <th>Urban</th>\n",
       "      <td>21.576429</td>\n",
       "    </tr>\n",
       "    <tr>\n",
       "      <th rowspan=\"2\" valign=\"top\">Jammu &amp; Kashmir</th>\n",
       "      <th>Rural</th>\n",
       "      <td>14.951818</td>\n",
       "    </tr>\n",
       "    <tr>\n",
       "      <th>Urban</th>\n",
       "      <td>17.549000</td>\n",
       "    </tr>\n",
       "    <tr>\n",
       "      <th rowspan=\"2\" valign=\"top\">Jharkhand</th>\n",
       "      <th>Rural</th>\n",
       "      <td>15.221429</td>\n",
       "    </tr>\n",
       "    <tr>\n",
       "      <th>Urban</th>\n",
       "      <td>25.948571</td>\n",
       "    </tr>\n",
       "    <tr>\n",
       "      <th rowspan=\"2\" valign=\"top\">Karnataka</th>\n",
       "      <th>Rural</th>\n",
       "      <td>7.224286</td>\n",
       "    </tr>\n",
       "    <tr>\n",
       "      <th>Urban</th>\n",
       "      <td>6.127857</td>\n",
       "    </tr>\n",
       "    <tr>\n",
       "      <th rowspan=\"2\" valign=\"top\">Kerala</th>\n",
       "      <th>Rural</th>\n",
       "      <td>10.341429</td>\n",
       "    </tr>\n",
       "    <tr>\n",
       "      <th>Urban</th>\n",
       "      <td>9.906429</td>\n",
       "    </tr>\n",
       "    <tr>\n",
       "      <th rowspan=\"2\" valign=\"top\">Madhya Pradesh</th>\n",
       "      <th>Rural</th>\n",
       "      <td>5.653571</td>\n",
       "    </tr>\n",
       "    <tr>\n",
       "      <th>Urban</th>\n",
       "      <td>9.159286</td>\n",
       "    </tr>\n",
       "    <tr>\n",
       "      <th rowspan=\"2\" valign=\"top\">Maharashtra</th>\n",
       "      <th>Rural</th>\n",
       "      <td>6.810000</td>\n",
       "    </tr>\n",
       "    <tr>\n",
       "      <th>Urban</th>\n",
       "      <td>8.305000</td>\n",
       "    </tr>\n",
       "    <tr>\n",
       "      <th rowspan=\"2\" valign=\"top\">Meghalaya</th>\n",
       "      <th>Rural</th>\n",
       "      <td>2.475000</td>\n",
       "    </tr>\n",
       "    <tr>\n",
       "      <th>Urban</th>\n",
       "      <td>7.301538</td>\n",
       "    </tr>\n",
       "    <tr>\n",
       "      <th rowspan=\"2\" valign=\"top\">Odisha</th>\n",
       "      <th>Rural</th>\n",
       "      <td>6.612857</td>\n",
       "    </tr>\n",
       "    <tr>\n",
       "      <th>Urban</th>\n",
       "      <td>4.702857</td>\n",
       "    </tr>\n",
       "    <tr>\n",
       "      <th rowspan=\"2\" valign=\"top\">Puducherry</th>\n",
       "      <th>Rural</th>\n",
       "      <td>7.263333</td>\n",
       "    </tr>\n",
       "    <tr>\n",
       "      <th>Urban</th>\n",
       "      <td>12.745000</td>\n",
       "    </tr>\n",
       "    <tr>\n",
       "      <th rowspan=\"2\" valign=\"top\">Punjab</th>\n",
       "      <th>Rural</th>\n",
       "      <td>11.925000</td>\n",
       "    </tr>\n",
       "    <tr>\n",
       "      <th>Urban</th>\n",
       "      <td>12.137143</td>\n",
       "    </tr>\n",
       "    <tr>\n",
       "      <th rowspan=\"2\" valign=\"top\">Rajasthan</th>\n",
       "      <th>Rural</th>\n",
       "      <td>10.927143</td>\n",
       "    </tr>\n",
       "    <tr>\n",
       "      <th>Urban</th>\n",
       "      <td>17.189286</td>\n",
       "    </tr>\n",
       "    <tr>\n",
       "      <th rowspan=\"2\" valign=\"top\">Sikkim</th>\n",
       "      <th>Rural</th>\n",
       "      <td>5.080000</td>\n",
       "    </tr>\n",
       "    <tr>\n",
       "      <th>Urban</th>\n",
       "      <td>8.153333</td>\n",
       "    </tr>\n",
       "    <tr>\n",
       "      <th rowspan=\"2\" valign=\"top\">Tamil Nadu</th>\n",
       "      <th>Rural</th>\n",
       "      <td>8.775714</td>\n",
       "    </tr>\n",
       "    <tr>\n",
       "      <th>Urban</th>\n",
       "      <td>9.792857</td>\n",
       "    </tr>\n",
       "    <tr>\n",
       "      <th rowspan=\"2\" valign=\"top\">Telangana</th>\n",
       "      <th>Rural</th>\n",
       "      <td>7.863571</td>\n",
       "    </tr>\n",
       "    <tr>\n",
       "      <th>Urban</th>\n",
       "      <td>7.612143</td>\n",
       "    </tr>\n",
       "    <tr>\n",
       "      <th rowspan=\"2\" valign=\"top\">Tripura</th>\n",
       "      <th>Rural</th>\n",
       "      <td>27.166429</td>\n",
       "    </tr>\n",
       "    <tr>\n",
       "      <th>Urban</th>\n",
       "      <td>29.534286</td>\n",
       "    </tr>\n",
       "    <tr>\n",
       "      <th rowspan=\"2\" valign=\"top\">Uttar Pradesh</th>\n",
       "      <th>Rural</th>\n",
       "      <td>10.208571</td>\n",
       "    </tr>\n",
       "    <tr>\n",
       "      <th>Urban</th>\n",
       "      <td>14.894286</td>\n",
       "    </tr>\n",
       "    <tr>\n",
       "      <th rowspan=\"2\" valign=\"top\">Uttarakhand</th>\n",
       "      <th>Rural</th>\n",
       "      <td>4.882308</td>\n",
       "    </tr>\n",
       "    <tr>\n",
       "      <th>Urban</th>\n",
       "      <td>8.162143</td>\n",
       "    </tr>\n",
       "    <tr>\n",
       "      <th rowspan=\"2\" valign=\"top\">West Bengal</th>\n",
       "      <th>Rural</th>\n",
       "      <td>7.572143</td>\n",
       "    </tr>\n",
       "    <tr>\n",
       "      <th>Urban</th>\n",
       "      <td>8.677143</td>\n",
       "    </tr>\n",
       "  </tbody>\n",
       "</table>\n",
       "</div>"
      ],
      "text/plain": [
       "                        Estimated Unemployment Rate (%)\n",
       "Region           Area                                  \n",
       "Andhra Pradesh   Rural                         5.526429\n",
       "                 Urban                         9.427857\n",
       "Assam            Rural                         4.490833\n",
       "                 Urban                         8.088571\n",
       "Bihar            Rural                        16.770000\n",
       "                 Urban                        21.066429\n",
       "Chandigarh       Urban                        15.991667\n",
       "Chhattisgarh     Rural                         6.628571\n",
       "                 Urban                        11.852143\n",
       "Delhi            Rural                        15.258571\n",
       "                 Urban                        17.732143\n",
       "Goa              Rural                         8.390000\n",
       "                 Urban                        10.158333\n",
       "Gujarat          Rural                         5.917143\n",
       "                 Urban                         7.410714\n",
       "Haryana          Rural                        25.012857\n",
       "                 Urban                        27.553571\n",
       "Himachal Pradesh Rural                        15.504286\n",
       "                 Urban                        21.576429\n",
       "Jammu & Kashmir  Rural                        14.951818\n",
       "                 Urban                        17.549000\n",
       "Jharkhand        Rural                        15.221429\n",
       "                 Urban                        25.948571\n",
       "Karnataka        Rural                         7.224286\n",
       "                 Urban                         6.127857\n",
       "Kerala           Rural                        10.341429\n",
       "                 Urban                         9.906429\n",
       "Madhya Pradesh   Rural                         5.653571\n",
       "                 Urban                         9.159286\n",
       "Maharashtra      Rural                         6.810000\n",
       "                 Urban                         8.305000\n",
       "Meghalaya        Rural                         2.475000\n",
       "                 Urban                         7.301538\n",
       "Odisha           Rural                         6.612857\n",
       "                 Urban                         4.702857\n",
       "Puducherry       Rural                         7.263333\n",
       "                 Urban                        12.745000\n",
       "Punjab           Rural                        11.925000\n",
       "                 Urban                        12.137143\n",
       "Rajasthan        Rural                        10.927143\n",
       "                 Urban                        17.189286\n",
       "Sikkim           Rural                         5.080000\n",
       "                 Urban                         8.153333\n",
       "Tamil Nadu       Rural                         8.775714\n",
       "                 Urban                         9.792857\n",
       "Telangana        Rural                         7.863571\n",
       "                 Urban                         7.612143\n",
       "Tripura          Rural                        27.166429\n",
       "                 Urban                        29.534286\n",
       "Uttar Pradesh    Rural                        10.208571\n",
       "                 Urban                        14.894286\n",
       "Uttarakhand      Rural                         4.882308\n",
       "                 Urban                         8.162143\n",
       "West Bengal      Rural                         7.572143\n",
       "                 Urban                         8.677143"
      ]
     },
     "execution_count": 71,
     "metadata": {},
     "output_type": "execute_result"
    }
   ],
   "source": [
    "#group by region and area\n",
    "group = df.groupby(['Region','Area']).agg({'Estimated Unemployment Rate (%)': 'mean'})\n",
    "group"
   ]
  },
  {
   "cell_type": "code",
   "execution_count": 72,
   "metadata": {},
   "outputs": [
    {
     "data": {
      "image/png": "[encoded data removed]",
      "text/plain": [
       "<Figure size 432x288 with 1 Axes>"
      ]
     },
     "metadata": {
      "needs_background": "light"
     },
     "output_type": "display_data"
    }
   ],
   "source": [
    "import pandas as pd\n",
    "import matplotlib.pyplot as plt\n",
    "\n",
    "# Group the data by 'Area' and calculate the average values for 'Estimated Unemployment Rate (%)' and 'Estimated Employed'\n",
    "area_data = df.groupby('Area').mean()[['Estimated Unemployment Rate (%)', 'Estimated Employed']]\n",
    "\n",
    "# Create a grouped bar chart\n",
    "area_data.plot(kind='bar')\n",
    "plt.xlabel('Area')\n",
    "plt.ylabel('Value')\n",
    "plt.title('Unemployment Rate and Employment by Area')\n",
    "\n",
    "# Display the chart\n",
    "plt.show()\n"
   ]
  },
  {
   "cell_type": "code",
   "execution_count": 74,
   "metadata": {},
   "outputs": [
    {
     "data": {
      "image/png": "[encoded data removed]",
      "text/plain": [
       "<Figure size 432x288 with 1 Axes>"
      ]
     },
     "metadata": {},
     "output_type": "display_data"
    }
   ],
   "source": [
    "import pandas as pd\n",
    "import matplotlib.pyplot as plt\n",
    "\n",
    "# Count the occurrences of each area\n",
    "area_counts = df['Area'].value_counts()\n",
    "\n",
    "# Create a pie chart\n",
    "plt.pie(area_counts.values, labels=area_counts.index, autopct='%1.1f%%')\n",
    "plt.title('Distribution of Data Points by Area')\n",
    "\n",
    "# Display the chart\n",
    "plt.show()\n"
   ]
  },
  {
   "cell_type": "code",
   "execution_count": null,
   "metadata": {},
   "outputs": [],
   "source": []
  }
 ],
 "metadata": {
  "kernelspec": {
   "display_name": "Python 3 (ipykernel)",
   "language": "python",
   "name": "python3"
  },
  "language_info": {
   "codemirror_mode": {
    "name": "ipython",
    "version": 3
   },
   "file_extension": ".py",
   "mimetype": "text/x-python",
   "name": "python",
   "nbconvert_exporter": "python",
   "pygments_lexer": "ipython3",
   "version": "3.9.12"
  }
 },
 "nbformat": 4,
 "nbformat_minor": 4
}
